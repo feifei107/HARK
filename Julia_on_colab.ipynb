{
  "nbformat": 4,
  "nbformat_minor": 0,
  "metadata": {
    "accelerator": "GPU",
    "colab": {
      "name": "Julia_1.6.0.ipynb",
      "provenance": [],
      "collapsed_sections": []
    },
    "kernelspec": {
      "display_name": "Julia 1.6",
      "language": "julia",
      "name": "julia-1.6"
    },
    "language_info": {
      "file_extension": ".jl",
      "mimetype": "application/julia",
      "name": "julia",
      "version": "1.6.0"
    }
  },
  "cells": [
    {
      "cell_type": "code",
      "metadata": {
        "id": "PMGwZ7aFJL8Y"
      },
      "source": [
        "# Installation cell\n",
        "%%capture\n",
        "%%shell\n",
        "if ! command -v julia 3>&1 > /dev/null\n",
        "then\n",
        "    wget -q 'https://julialang-s3.julialang.org/bin/linux/x64/1.6/julia-1.6.1-linux-x86_64.tar.gz' \\\n",
        "        -O /tmp/julia.tar.gz\n",
        "    tar -x -f /tmp/julia.tar.gz -C /usr/local --strip-components 1\n",
        "    rm /tmp/julia.tar.gz\n",
        "fi\n",
        "julia -e 'using Pkg; pkg\"add IJulia; precompile;\"'\n",
        "echo 'Done'"
      ],
      "execution_count": 1,
      "outputs": []
    },
    {
      "cell_type": "markdown",
      "metadata": {
        "id": "XdMpcQduyaQc"
      },
      "source": [
        "After you run the first cell (the the cell directly above this text), go to Colab's menu bar and select **Edit** and select **Notebook settings** from the drop down. Select *Julia 1.6* in Runtime type. You can also select your prefered harwdware acceleration (defaults to GPU). \n",
        "\n",
        "<br/>You should see something like this:\n",
        "\n",
        "> ![Colab Img](https://raw.githubusercontent.com/Dsantra92/Julia-on-Colab/master/misc/julia_menu.png)\n",
        "\n",
        "<br/>Click on SAVE\n",
        "<br/>**We are ready to get going**\n",
        "\n",
        "\n",
        "\n"
      ]
    },
    {
      "cell_type": "code",
      "metadata": {
        "id": "iIxu4TjlJnBG",
        "colab": {
          "base_uri": "https://localhost:8080/"
        },
        "outputId": "6c0bfc3c-fefd-4244-e09f-c599b02c259f"
      },
      "source": [
        "VERSION"
      ],
      "execution_count": 1,
      "outputs": [
        {
          "output_type": "execute_result",
          "data": {
            "text/plain": [
              "v\"1.6.1\""
            ]
          },
          "metadata": {},
          "execution_count": 1
        }
      ]
    },
    {
      "cell_type": "markdown",
      "metadata": {
        "id": "rR7Ox6Ax0ypi"
      },
      "source": [
        "**The next three cells are for GPU benchmarking. If you are using this notebook for the first time and have GPU enabled, you can give it a try.** "
      ]
    },
    {
      "cell_type": "markdown",
      "metadata": {
        "id": "0y5TUI-Ll4cY"
      },
      "source": [
        "### Optional GPU Experiments"
      ]
    },
    {
      "cell_type": "code",
      "metadata": {
        "id": "vHKANz2J0GDW",
        "outputId": "6f3a256c-2cf8-4890-fb6c-3f2a60ba236f",
        "colab": {
          "base_uri": "https://localhost:8080/"
        }
      },
      "source": [
        "using Pkg\n",
        "Pkg.add([\"BenchmarkTools\", \"CUDA\"])\n",
        "using BenchmarkTools, CUDA\n",
        "\n",
        "if has_cuda_gpu()\n",
        "  print(\"The GPU device is:\", CUDA.device())\n",
        "end"
      ],
      "execution_count": 2,
      "outputs": [
        {
          "output_type": "stream",
          "name": "stdout",
          "text": [
            "The GPU device is:CuDevice(0)"
          ]
        }
      ]
    },
    {
      "cell_type": "code",
      "metadata": {
        "id": "q7Mbcm00lnxO",
        "outputId": "e4c263de-40df-46f0-dff1-6e54569e5f85",
        "colab": {
          "base_uri": "https://localhost:8080/"
        }
      },
      "source": [
        "mcpu = rand(2^10, 2^10)\n",
        "@benchmark mcpu*mcpu"
      ],
      "execution_count": 3,
      "outputs": [
        {
          "output_type": "execute_result",
          "data": {
            "text/plain": [
              "BenchmarkTools.Trial: 88 samples with 1 evaluation.\n",
              " Range \u001b[90m(\u001b[39m\u001b[36m\u001b[1mmin\u001b[22m\u001b[39m … \u001b[35mmax\u001b[39m\u001b[90m):  \u001b[39m\u001b[36m\u001b[1m52.154 ms\u001b[22m\u001b[39m … \u001b[35m69.716 ms\u001b[39m  \u001b[90m┊\u001b[39m GC \u001b[90m(\u001b[39mmin … max\u001b[90m): \u001b[39m0.00% … 0.00%\n",
              " Time  \u001b[90m(\u001b[39m\u001b[34m\u001b[1mmedian\u001b[22m\u001b[39m\u001b[90m):     \u001b[39m\u001b[34m\u001b[1m56.043 ms              \u001b[22m\u001b[39m\u001b[90m┊\u001b[39m GC \u001b[90m(\u001b[39mmedian\u001b[90m):    \u001b[39m0.00%\n",
              " Time  \u001b[90m(\u001b[39m\u001b[32m\u001b[1mmean\u001b[22m\u001b[39m ± \u001b[32mσ\u001b[39m\u001b[90m):   \u001b[39m\u001b[32m\u001b[1m56.984 ms\u001b[22m\u001b[39m ± \u001b[32m 3.680 ms\u001b[39m  \u001b[90m┊\u001b[39m GC \u001b[90m(\u001b[39mmean ± σ\u001b[90m):  \u001b[39m0.64% ± 1.57%\n",
              "\n",
              "  \u001b[39m \u001b[39m \u001b[39m \u001b[39m \u001b[39m \u001b[39m▁\u001b[39m \u001b[39m▃\u001b[39m█\u001b[39m▁\u001b[39m▁\u001b[39m▁\u001b[39m▃\u001b[39m▃\u001b[34m▁\u001b[39m\u001b[39m▃\u001b[39m▁\u001b[32m \u001b[39m\u001b[39m▁\u001b[39m \u001b[39m \u001b[39m \u001b[39m \u001b[39m \u001b[39m \u001b[39m \u001b[39m \u001b[39m \u001b[39m \u001b[39m \u001b[39m \u001b[39m \u001b[39m \u001b[39m \u001b[39m \u001b[39m \u001b[39m \u001b[39m \u001b[39m \u001b[39m \u001b[39m \u001b[39m \u001b[39m \u001b[39m \u001b[39m \u001b[39m \u001b[39m \u001b[39m \u001b[39m \u001b[39m \u001b[39m \u001b[39m \u001b[39m \u001b[39m \u001b[39m \u001b[39m \u001b[39m \u001b[39m \u001b[39m \u001b[39m \u001b[39m \n",
              "  \u001b[39m▄\u001b[39m▁\u001b[39m▁\u001b[39m▆\u001b[39m▄\u001b[39m█\u001b[39m▆\u001b[39m█\u001b[39m█\u001b[39m█\u001b[39m█\u001b[39m█\u001b[39m█\u001b[39m█\u001b[34m█\u001b[39m\u001b[39m█\u001b[39m█\u001b[32m▇\u001b[39m\u001b[39m█\u001b[39m▇\u001b[39m▁\u001b[39m▇\u001b[39m▁\u001b[39m▇\u001b[39m▁\u001b[39m▆\u001b[39m▄\u001b[39m▄\u001b[39m▁\u001b[39m▄\u001b[39m▄\u001b[39m▁\u001b[39m▁\u001b[39m▁\u001b[39m▁\u001b[39m▁\u001b[39m▁\u001b[39m▁\u001b[39m▁\u001b[39m▁\u001b[39m▄\u001b[39m▄\u001b[39m▁\u001b[39m▁\u001b[39m▁\u001b[39m▁\u001b[39m▁\u001b[39m▁\u001b[39m▁\u001b[39m▁\u001b[39m▁\u001b[39m▁\u001b[39m▁\u001b[39m▁\u001b[39m▆\u001b[39m▄\u001b[39m▄\u001b[39m▁\u001b[39m▄\u001b[39m \u001b[39m▁\n",
              "  52.2 ms\u001b[90m         Histogram: frequency by time\u001b[39m        68.7 ms \u001b[0m\u001b[1m<\u001b[22m\n",
              "\n",
              " Memory estimate\u001b[90m: \u001b[39m\u001b[33m8.00 MiB\u001b[39m, allocs estimate\u001b[90m: \u001b[39m\u001b[33m2\u001b[39m."
            ]
          },
          "metadata": {},
          "execution_count": 3
        }
      ]
    },
    {
      "cell_type": "code",
      "metadata": {
        "id": "RMHRbF5J-vmW",
        "outputId": "0dfaae7b-73e8-469e-8b2d-f5155853b6e4",
        "colab": {
          "base_uri": "https://localhost:8080/"
        }
      },
      "source": [
        "println(\"The CuArrray operation should take around 0.5 ms(excluding CUDA downloading time which is a one time process), and should be much faster. If so, the GPU is working.\")\n",
        "mgpu = cu(mcpu)\n",
        "@benchmark CUDA.@sync mgpu*mgpu"
      ],
      "execution_count": 4,
      "outputs": [
        {
          "output_type": "stream",
          "name": "stdout",
          "text": [
            "The CuArrray operation should take around 0.5 ms(excluding CUDA downloading time which is a one time process), and should be much faster. If so, the GPU is working.\n"
          ]
        },
        {
          "output_type": "execute_result",
          "data": {
            "text/plain": [
              "BenchmarkTools.Trial: 7673 samples with 1 evaluation.\n",
              " Range \u001b[90m(\u001b[39m\u001b[36m\u001b[1mmin\u001b[22m\u001b[39m … \u001b[35mmax\u001b[39m\u001b[90m):  \u001b[39m\u001b[36m\u001b[1m420.566 μs\u001b[22m\u001b[39m … \u001b[35m 17.319 ms\u001b[39m  \u001b[90m┊\u001b[39m GC \u001b[90m(\u001b[39mmin … max\u001b[90m): \u001b[39m0.00% … 42.11%\n",
              " Time  \u001b[90m(\u001b[39m\u001b[34m\u001b[1mmedian\u001b[22m\u001b[39m\u001b[90m):     \u001b[39m\u001b[34m\u001b[1m636.181 μs               \u001b[22m\u001b[39m\u001b[90m┊\u001b[39m GC \u001b[90m(\u001b[39mmedian\u001b[90m):    \u001b[39m0.00%\n",
              " Time  \u001b[90m(\u001b[39m\u001b[32m\u001b[1mmean\u001b[22m\u001b[39m ± \u001b[32mσ\u001b[39m\u001b[90m):   \u001b[39m\u001b[32m\u001b[1m639.899 μs\u001b[22m\u001b[39m ± \u001b[32m261.709 μs\u001b[39m  \u001b[90m┊\u001b[39m GC \u001b[90m(\u001b[39mmean ± σ\u001b[90m):  \u001b[39m0.28% ±  0.68%\n",
              "\n",
              "  \u001b[39m \u001b[39m \u001b[39m \u001b[39m \u001b[39m \u001b[39m \u001b[39m \u001b[39m \u001b[39m \u001b[39m \u001b[39m \u001b[39m \u001b[39m \u001b[39m \u001b[39m \u001b[39m \u001b[39m \u001b[39m \u001b[39m \u001b[39m \u001b[39m \u001b[39m \u001b[39m \u001b[39m \u001b[39m \u001b[39m \u001b[39m \u001b[39m \u001b[39m \u001b[39m \u001b[39m \u001b[39m \u001b[39m \u001b[39m \u001b[39m \u001b[39m▃\u001b[39m▅\u001b[39m▇\u001b[39m█\u001b[34m█\u001b[39m\u001b[39m▅\u001b[39m▄\u001b[39m▂\u001b[39m \u001b[39m \u001b[39m \u001b[39m \u001b[39m \u001b[39m \u001b[39m \u001b[39m \u001b[39m \u001b[39m \u001b[39m \u001b[39m \u001b[39m \u001b[39m \u001b[39m \u001b[39m \u001b[39m \u001b[39m \u001b[39m \u001b[39m \n",
              "  \u001b[39m▂\u001b[39m▁\u001b[39m▁\u001b[39m▂\u001b[39m▂\u001b[39m▂\u001b[39m▂\u001b[39m▂\u001b[39m▂\u001b[39m▂\u001b[39m▂\u001b[39m▂\u001b[39m▂\u001b[39m▂\u001b[39m▂\u001b[39m▂\u001b[39m▂\u001b[39m▂\u001b[39m▂\u001b[39m▂\u001b[39m▂\u001b[39m▂\u001b[39m▂\u001b[39m▂\u001b[39m▂\u001b[39m▃\u001b[39m▅\u001b[39m▅\u001b[39m▆\u001b[39m▆\u001b[39m▅\u001b[39m▆\u001b[39m▅\u001b[39m▅\u001b[39m▇\u001b[39m█\u001b[39m█\u001b[39m█\u001b[39m█\u001b[34m█\u001b[39m\u001b[39m█\u001b[39m█\u001b[39m█\u001b[39m█\u001b[39m▆\u001b[39m▆\u001b[39m▅\u001b[39m▄\u001b[39m▃\u001b[39m▃\u001b[39m▃\u001b[39m▃\u001b[39m▂\u001b[39m▂\u001b[39m▂\u001b[39m▂\u001b[39m▂\u001b[39m▂\u001b[39m▂\u001b[39m▂\u001b[39m▂\u001b[39m \u001b[39m▄\n",
              "  421 μs\u001b[90m           Histogram: frequency by time\u001b[39m          761 μs \u001b[0m\u001b[1m<\u001b[22m\n",
              "\n",
              " Memory estimate\u001b[90m: \u001b[39m\u001b[33m672 bytes\u001b[39m, allocs estimate\u001b[90m: \u001b[39m\u001b[33m33\u001b[39m."
            ]
          },
          "metadata": {},
          "execution_count": 4
        }
      ]
    },
    {
      "cell_type": "code",
      "source": [
        "using Pkg\n",
        "Pkg.add([\"Distributions\"])\n",
        "using Distributions"
      ],
      "metadata": {
        "id": "d9KkNXdKwbDd"
      },
      "execution_count": 14,
      "outputs": []
    },
    {
      "cell_type": "code",
      "source": [
        "sigma=2\n",
        "beta = 0.93\n",
        "grd = 100\n",
        "rho = 0.90\n",
        "sigma_epsilon =0.3\n",
        "r = 0.009\n",
        "varphi = 0.6"
      ],
      "metadata": {
        "id": "iQuhK7pZwzJv",
        "outputId": "52850428-f508-4659-f277-9452762b7b46",
        "colab": {
          "base_uri": "https://localhost:8080/"
        }
      },
      "execution_count": 6,
      "outputs": [
        {
          "output_type": "execute_result",
          "data": {
            "text/plain": [
              "0.6"
            ]
          },
          "metadata": {},
          "execution_count": 6
        }
      ]
    },
    {
      "cell_type": "code",
      "source": [
        "sigma_z = sigma_epsilon/sqrt(1-rho^2)"
      ],
      "metadata": {
        "id": "EZSlz9vMxg5z",
        "outputId": "cdc9cec9-409f-4e81-a933-f72ba14a99d5",
        "colab": {
          "base_uri": "https://localhost:8080/"
        }
      },
      "execution_count": 7,
      "outputs": [
        {
          "output_type": "execute_result",
          "data": {
            "text/plain": [
              "0.6882472016116854"
            ]
          },
          "metadata": {},
          "execution_count": 7
        }
      ]
    },
    {
      "cell_type": "code",
      "source": [
        "z_h = 3*sigma_z\n",
        "z_l = -3*sigma_z\n",
        "yc = 5"
      ],
      "metadata": {
        "id": "vax0UR05xpmS",
        "outputId": "daf1b49a-3161-416f-fb57-170d76ebae61",
        "colab": {
          "base_uri": "https://localhost:8080/"
        }
      },
      "execution_count": 8,
      "outputs": [
        {
          "output_type": "execute_result",
          "data": {
            "text/plain": [
              "5"
            ]
          },
          "metadata": {},
          "execution_count": 8
        }
      ]
    },
    {
      "cell_type": "code",
      "source": [
        "z=zeros(yc)\n"
      ],
      "metadata": {
        "id": "gduSdNqWx1B9",
        "outputId": "f84a8005-2336-4791-cd97-fa410e20f00c",
        "colab": {
          "base_uri": "https://localhost:8080/"
        }
      },
      "execution_count": 9,
      "outputs": [
        {
          "output_type": "execute_result",
          "data": {
            "text/plain": [
              "5-element Vector{Float64}:\n",
              " 0.0\n",
              " 0.0\n",
              " 0.0\n",
              " 0.0\n",
              " 0.0"
            ]
          },
          "metadata": {},
          "execution_count": 9
        }
      ]
    },
    {
      "cell_type": "code",
      "source": [
        "midl = zeros(yc-1)\n",
        "for i in 1:yc-1\n",
        "    midl[i] = (z[i+1]+z[i])/2\n",
        "end"
      ],
      "metadata": {
        "id": "Urfakq4wx71z"
      },
      "execution_count": 12,
      "outputs": []
    },
    {
      "cell_type": "code",
      "source": [
        "Pi_y = zeros(yc, yc)\n",
        "for i in 1: yc\n",
        "    Pi_y[i,1] = cdf.(Normal(),(midl[1]-rho*z[i])/sigma_epsilon)\n",
        "    Pi_y[i,yc]=1-cdf.(Normal(),(midl[yc-1]-rho*z[i])/sigma_epsilon)\n",
        "    for j in 2:yc-1\n",
        "    Pi_y[i,j]=cdf.(Normal(),(midl[j]-rho*z[i])/sigma_epsilon)-cdf.(Normal(),(midl[j-1]-rho*z[i]/sigma_epsilon))\n",
        "    end\n",
        "end"
      ],
      "metadata": {
        "id": "yDvdRAOhyc7m"
      },
      "execution_count": 15,
      "outputs": []
    },
    {
      "cell_type": "code",
      "source": [
        "y = exp.(z)"
      ],
      "metadata": {
        "id": "cgtnDlNNz5ro",
        "outputId": "3fbc9648-2b34-4eff-98b1-224e3b34095a",
        "colab": {
          "base_uri": "https://localhost:8080/"
        }
      },
      "execution_count": 16,
      "outputs": [
        {
          "output_type": "execute_result",
          "data": {
            "text/plain": [
              "5-element Vector{Float64}:\n",
              " 1.0\n",
              " 1.0\n",
              " 1.0\n",
              " 1.0\n",
              " 1.0"
            ]
          },
          "metadata": {},
          "execution_count": 16
        }
      ]
    },
    {
      "cell_type": "code",
      "source": [
        "m = [0.000, 0.061,1.594]"
      ],
      "metadata": {
        "id": "CsUYuq2m0E2W",
        "outputId": "92054793-5b17-4a61-89ce-5593b258150f",
        "colab": {
          "base_uri": "https://localhost:8080/"
        }
      },
      "execution_count": 17,
      "outputs": [
        {
          "output_type": "execute_result",
          "data": {
            "text/plain": [
              "3-element Vector{Float64}:\n",
              " 0.0\n",
              " 0.061\n",
              " 1.594"
            ]
          },
          "metadata": {},
          "execution_count": 17
        }
      ]
    },
    {
      "cell_type": "code",
      "source": [
        "Pi_m =[0.7 0.2 0.1; 0.15 0.65 0.2; 0.105 0.6601 0.233]"
      ],
      "metadata": {
        "id": "icDqPGta0KEZ",
        "outputId": "48512869-3207-4c23-e0dd-d9ea768e026f",
        "colab": {
          "base_uri": "https://localhost:8080/"
        }
      },
      "execution_count": 18,
      "outputs": [
        {
          "output_type": "execute_result",
          "data": {
            "text/plain": [
              "3×3 Matrix{Float64}:\n",
              " 0.7    0.2     0.1\n",
              " 0.15   0.65    0.2\n",
              " 0.105  0.6601  0.233"
            ]
          },
          "metadata": {},
          "execution_count": 18
        }
      ]
    },
    {
      "cell_type": "code",
      "source": [
        "mc = 3\n",
        "#borrowing limits\n",
        "bl = -(m[mc]-y[1])/r+20\n",
        "bh =  120"
      ],
      "metadata": {
        "id": "3kO6_qS10iM8",
        "outputId": "44d5d968-0bf2-482a-8fe4-9eccb5126b37",
        "colab": {
          "base_uri": "https://localhost:8080/"
        }
      },
      "execution_count": 19,
      "outputs": [
        {
          "output_type": "execute_result",
          "data": {
            "text/plain": [
              "120"
            ]
          },
          "metadata": {},
          "execution_count": 19
        }
      ]
    },
    {
      "cell_type": "code",
      "source": [
        "bbl = (bl+200)^0.5\n",
        "bbh = (bh+200)^0.5\n",
        "st_l  =  (bbh-200^0.5)/(grd -1)\n",
        "st_b  =  (200^0.5-bbl)/(grd -1)"
      ],
      "metadata": {
        "id": "R54XMsc_0j61",
        "outputId": "f95a7136-49fe-49f1-d48f-9ec8bbc74458",
        "colab": {
          "base_uri": "https://localhost:8080/"
        }
      },
      "execution_count": 27,
      "outputs": [
        {
          "output_type": "execute_result",
          "data": {
            "text/plain": [
              "0.017499615936768628"
            ]
          },
          "metadata": {},
          "execution_count": 27
        }
      ]
    },
    {
      "cell_type": "code",
      "source": [
        "#grid for assets\n",
        "b_l = zeros(grd)\n",
        "b_b = zeros(grd)\n",
        "for i in 1:grd\n",
        "    b_l[i] = 200^0.5+(i-1)*st_l\n",
        "    b_b[i] = bbl+(i-1)*st_b\n",
        "end\n"
      ],
      "metadata": {
        "id": "Hbr2z2IC1WFe"
      },
      "execution_count": 28,
      "outputs": []
    },
    {
      "cell_type": "code",
      "source": [
        "a_l = b_l.^2 .- 200\n",
        "a_b = b_b.^2 .- 200"
      ],
      "metadata": {
        "id": "8KfwqzZc2Hy4",
        "outputId": "e213a32c-38de-42bd-ef67-6e6870f29528",
        "colab": {
          "base_uri": "https://localhost:8080/"
        }
      },
      "execution_count": 29,
      "outputs": [
        {
          "output_type": "execute_result",
          "data": {
            "text/plain": [
              "100-element Vector{Float64}:\n",
              " -46.0\n",
              " -45.56536471803108\n",
              " -45.130116962946346\n",
              " -44.69425673474572\n",
              " -44.2577840334292\n",
              " -43.82069885899682\n",
              " -43.38300121144863\n",
              " -42.94469109078452\n",
              " -42.50576849700451\n",
              " -42.06623343010867\n",
              " -41.62608589009699\n",
              " -41.18532587696939\n",
              " -40.74395339072592\n",
              "   ⋮\n",
              "  -5.407548099191587\n",
              "  -4.919015183026232\n",
              "  -4.429869793745041\n",
              "  -3.940111931347957\n",
              "  -3.449741595834979\n",
              "  -2.9587587872061363\n",
              "  -2.4671635054614853\n",
              "  -1.9749557506009126\n",
              "  -1.4821355226244748\n",
              "  -0.9887028215322289\n",
              "  -0.4946576473240327\n",
              "   2.842170943040401e-14"
            ]
          },
          "metadata": {},
          "execution_count": 29
        }
      ]
    },
    {
      "cell_type": "code",
      "source": [
        "#grid for insurance\n",
        "i = [0,1]\n"
      ],
      "metadata": {
        "id": "pcI-5clH2Mdw",
        "outputId": "07b2ca54-2f42-4f92-d0d9-323ffc7c5dc0",
        "colab": {
          "base_uri": "https://localhost:8080/"
        }
      },
      "execution_count": 30,
      "outputs": [
        {
          "output_type": "execute_result",
          "data": {
            "text/plain": [
              "2-element Vector{Int64}:\n",
              " 0\n",
              " 1"
            ]
          },
          "metadata": {},
          "execution_count": 30
        }
      ]
    },
    {
      "cell_type": "code",
      "source": [
        "# Utility function\n",
        "utilb(a0,a1,y,i0,i1,m,∇)=((a0*(1+r)*∇+y-a1-prem*i1-(1-ϕ*i0)*m)^(1-σ)-1)/(1-σ)-λ*a0*(1-∇)\n",
        "utill(a0,a1,y,i0,i1,m,∇)=((a0*(1+r)*δ+y-a1-prem*i1-(1-ϕ*i0)*m)^(1-σ)-1)/(1-σ)\n",
        "consb(a0,a1,y,i0,i1,m,∇)= a0*(1+r)*∇+y-a1-prem*i1-(1-ϕ*i0)*m\n",
        "consl(a0,a1,y,i0,i1,m,∇)= a0*(1+r)*δ+y-a1-prem*i1-(1-ϕ*i0)*m"
      ],
      "metadata": {
        "id": "pfITznUm2dMi",
        "outputId": "04cad57f-48ee-49a9-8d37-c75066cf89a8",
        "colab": {
          "base_uri": "https://localhost:8080/"
        }
      },
      "execution_count": 31,
      "outputs": [
        {
          "output_type": "execute_result",
          "data": {
            "text/plain": [
              "consl (generic function with 1 method)"
            ]
          },
          "metadata": {},
          "execution_count": 31
        }
      ]
    },
    {
      "cell_type": "code",
      "source": [
        "#Probability matrix\n",
        "A=kron(Pi_m, Pi_y)\n",
        "for i in 1:mc*yc\n",
        "    A[i,:] = A[i,:]./sum(A[i,:])\n",
        "end\n",
        "B = ones(grd,grd)\n",
        "D = kron(B,A)\n",
        "C = ones(2,2)\n",
        "Prob_l = kron(C, D)\n",
        "E = ones(3,3)\n",
        "Prob_b = kron(E,Prob_l)"
      ],
      "metadata": {
        "id": "s5OkXgDb2g5E",
        "outputId": "8f606c00-79d6-4acb-d0b8-d1eb3d7e71fd",
        "colab": {
          "base_uri": "https://localhost:8080/"
        }
      },
      "execution_count": 32,
      "outputs": [
        {
          "output_type": "execute_result",
          "data": {
            "text/plain": [
              "9000×9000 Matrix{Float64}:\n",
              " 0.35       0.0  0.0  0.0  0.35       …  0.05      0.0  0.0  0.0  0.05\n",
              " 0.35       0.0  0.0  0.0  0.35          0.05      0.0  0.0  0.0  0.05\n",
              " 0.35       0.0  0.0  0.0  0.35          0.05      0.0  0.0  0.0  0.05\n",
              " 0.35       0.0  0.0  0.0  0.35          0.05      0.0  0.0  0.0  0.05\n",
              " 0.35       0.0  0.0  0.0  0.35          0.05      0.0  0.0  0.0  0.05\n",
              " 0.075      0.0  0.0  0.0  0.075      …  0.1       0.0  0.0  0.0  0.1\n",
              " 0.075      0.0  0.0  0.0  0.075         0.1       0.0  0.0  0.0  0.1\n",
              " 0.075      0.0  0.0  0.0  0.075         0.1       0.0  0.0  0.0  0.1\n",
              " 0.075      0.0  0.0  0.0  0.075         0.1       0.0  0.0  0.0  0.1\n",
              " 0.075      0.0  0.0  0.0  0.075         0.1       0.0  0.0  0.0  0.1\n",
              " 0.0525999  0.0  0.0  0.0  0.0525999  …  0.116722  0.0  0.0  0.0  0.116722\n",
              " 0.0525999  0.0  0.0  0.0  0.0525999     0.116722  0.0  0.0  0.0  0.116722\n",
              " 0.0525999  0.0  0.0  0.0  0.0525999     0.116722  0.0  0.0  0.0  0.116722\n",
              " ⋮                                    ⋱  ⋮                        \n",
              " 0.35       0.0  0.0  0.0  0.35          0.05      0.0  0.0  0.0  0.05\n",
              " 0.35       0.0  0.0  0.0  0.35          0.05      0.0  0.0  0.0  0.05\n",
              " 0.075      0.0  0.0  0.0  0.075      …  0.1       0.0  0.0  0.0  0.1\n",
              " 0.075      0.0  0.0  0.0  0.075         0.1       0.0  0.0  0.0  0.1\n",
              " 0.075      0.0  0.0  0.0  0.075         0.1       0.0  0.0  0.0  0.1\n",
              " 0.075      0.0  0.0  0.0  0.075         0.1       0.0  0.0  0.0  0.1\n",
              " 0.075      0.0  0.0  0.0  0.075         0.1       0.0  0.0  0.0  0.1\n",
              " 0.0525999  0.0  0.0  0.0  0.0525999  …  0.116722  0.0  0.0  0.0  0.116722\n",
              " 0.0525999  0.0  0.0  0.0  0.0525999     0.116722  0.0  0.0  0.0  0.116722\n",
              " 0.0525999  0.0  0.0  0.0  0.0525999     0.116722  0.0  0.0  0.0  0.116722\n",
              " 0.0525999  0.0  0.0  0.0  0.0525999     0.116722  0.0  0.0  0.0  0.116722\n",
              " 0.0525999  0.0  0.0  0.0  0.0525999     0.116722  0.0  0.0  0.0  0.116722"
            ]
          },
          "metadata": {},
          "execution_count": 32
        }
      ]
    },
    {
      "cell_type": "code",
      "source": [
        "#Vector of # values of a,m,i,y\n",
        "nd  = [0, 0.5, 1] #∇ grid\n",
        "H_b = kron(nd,ones(2*yc*mc*grd))\n",
        "I_b = kron(ones(3),kron(i,ones(yc*mc*grd)))\n",
        "A_b = kron(ones(3), kron(2,kron(a_b, ones(yc*mc))))\n",
        "M_b = kron(ones(3), kron(2, kron(ones(grd), kron(m, ones(yc)))))\n",
        "Y_b = kron(ones(3*mc*2*grd), y)\n",
        "\n",
        "H_l = kron(nd,ones(2*yc*mc*grd))\n",
        "I_l = kron(ones(3),kron(i,ones(yc*mc*grd)))\n",
        "A_l = kron(ones(3), kron(2,kron(a_l, ones(yc*mc))))\n",
        "M_l = kron(ones(3), kron(2, kron(ones(grd), kron(m, ones(yc)))))\n",
        "Y_l = kron(ones(3*mc*2*grd), y)\n"
      ],
      "metadata": {
        "id": "nu8l7Bm42p7m",
        "outputId": "72e18c54-2ff3-4f03-ca96-b01527b1bdb3",
        "colab": {
          "base_uri": "https://localhost:8080/"
        }
      },
      "execution_count": 35,
      "outputs": [
        {
          "output_type": "execute_result",
          "data": {
            "text/plain": [
              "9000-element Vector{Float64}:\n",
              " 1.0\n",
              " 1.0\n",
              " 1.0\n",
              " 1.0\n",
              " 1.0\n",
              " 1.0\n",
              " 1.0\n",
              " 1.0\n",
              " 1.0\n",
              " 1.0\n",
              " 1.0\n",
              " 1.0\n",
              " 1.0\n",
              " ⋮\n",
              " 1.0\n",
              " 1.0\n",
              " 1.0\n",
              " 1.0\n",
              " 1.0\n",
              " 1.0\n",
              " 1.0\n",
              " 1.0\n",
              " 1.0\n",
              " 1.0\n",
              " 1.0\n",
              " 1.0"
            ]
          },
          "metadata": {},
          "execution_count": 35
        }
      ]
    },
    {
      "cell_type": "code",
      "source": [
        "# a and i for solve\n",
        "amat_b = [a_b a_b]\n",
        "imat_b = [zeros(grd) ones(grd)]\n",
        "ut_b   = [zeros(grd) ones(grd)]"
      ],
      "metadata": {
        "id": "rhy2DuuI3Ax7",
        "outputId": "b9572287-c8e7-40d0-94f5-c50d96e943af",
        "colab": {
          "base_uri": "https://localhost:8080/"
        }
      },
      "execution_count": 36,
      "outputs": [
        {
          "output_type": "execute_result",
          "data": {
            "text/plain": [
              "100×2 Matrix{Float64}:\n",
              " 0.0  1.0\n",
              " 0.0  1.0\n",
              " 0.0  1.0\n",
              " 0.0  1.0\n",
              " 0.0  1.0\n",
              " 0.0  1.0\n",
              " 0.0  1.0\n",
              " 0.0  1.0\n",
              " 0.0  1.0\n",
              " 0.0  1.0\n",
              " 0.0  1.0\n",
              " 0.0  1.0\n",
              " 0.0  1.0\n",
              " ⋮    \n",
              " 0.0  1.0\n",
              " 0.0  1.0\n",
              " 0.0  1.0\n",
              " 0.0  1.0\n",
              " 0.0  1.0\n",
              " 0.0  1.0\n",
              " 0.0  1.0\n",
              " 0.0  1.0\n",
              " 0.0  1.0\n",
              " 0.0  1.0\n",
              " 0.0  1.0\n",
              " 0.0  1.0"
            ]
          },
          "metadata": {},
          "execution_count": 36
        }
      ]
    },
    {
      "cell_type": "code",
      "source": [
        "amat_l = [a_l a_l]\n",
        "imat_l = [zeros(grd) ones(grd)]\n",
        "ut_l   = [zeros(grd) ones(grd)]\n",
        "\n",
        "#Guess premium\n",
        "prem = 0.1401\n",
        "δ    = 0.7\n"
      ],
      "metadata": {
        "id": "7XsI6mS63CNk",
        "outputId": "e5538e31-5e65-4f1b-d985-ebb379e1ba98",
        "colab": {
          "base_uri": "https://localhost:8080/"
        }
      },
      "execution_count": 37,
      "outputs": [
        {
          "output_type": "execute_result",
          "data": {
            "text/plain": [
              "0.7"
            ]
          },
          "metadata": {},
          "execution_count": 37
        }
      ]
    },
    {
      "cell_type": "code",
      "source": [
        "dim1 = trunc(Int64, 3*2*yc*mc*grd)\n",
        "dim2 = trunc(Int64, 1/3*dim1)\n",
        "tolerance = 0.0001\n"
      ],
      "metadata": {
        "id": "rJodjrRk3Md9",
        "outputId": "7dfd5fef-b5a2-4735-e018-87f865439f94",
        "colab": {
          "base_uri": "https://localhost:8080/"
        }
      },
      "execution_count": 39,
      "outputs": [
        {
          "output_type": "execute_result",
          "data": {
            "text/plain": [
              "0.0001"
            ]
          },
          "metadata": {},
          "execution_count": 39
        }
      ]
    },
    {
      "cell_type": "code",
      "source": [
        "function solve()\n",
        "dim1 = trunc(Int64, 3*2*yc*mc*grd)\n",
        "dim2 = trunc(Int64, 0.5*dim1)\n",
        "v_0b =  util.(A_b,A_b,Y_b,I_b,I_b, M_b,H_b)\n",
        "v_0l =  util.(A_l,A_l,Y_l,I_l,I_l, M_l,H_l)\n",
        "v_1b   = ones(dim1)\n",
        "v_1l   = ones(dim1)\n",
        "tolerance = 0.0001\n",
        "v_b      = zeros(grd,2)\n",
        "v_l      = zeros(grd,2)\n",
        "policy0_b = zeros(dim1,2)\n",
        "policy0_l = zeros(dim1,2)\n",
        "policy_b = ones(dim1,2)\n",
        "control_b = deepcopy(v_0)\n",
        "cnt_pol_b = deepcopy(policy0)\n",
        "policy_l = ones(dim1,2)\n",
        "control_l = deepcopy(v_0)\n",
        "cnt_pol_l = deepcopy(policy0)\n",
        "iter = 0\n",
        "while maximum(abs.(policyb.- policy0b)) & maximum(abs.(policyl.- policy0l))> tolerance\n",
        "v_0b    =  deepcopy(controlb)\n",
        "v_0l    =  deepcopy(controll)\n",
        "policy0_b = deepcopy(cnt_polb)\n",
        "policy0_l = deepcopy(cnt_poll)\n",
        "for k in 1:dim1\n",
        "con_b = consb.(A_b[k],amat_b,Y_b[k],I_b[k],imat_b, M_l[k],H_b[k])\n",
        "con_l = consl.(A_l[k],amat_l,Y_l[k],I_l[k],imat_l, M_l[k],H_l[k])\n",
        "checc_b = con_b.<=0\n",
        "checc_l = con_l.<=0\n",
        "matr_b    = checc_b*-1e6\n",
        "matr_l    = checc_l*-1e6\n",
        "ut_b =  (con_b.^(1-σ).-1)./(1-σ)\n",
        "ut_l =  (con_l.^(1-σ).-1)./(1-σ)\n",
        "ut_b = matr_b+ut_b\n",
        "ut_l = matr_l+ut_l\n",
        "for j in 1:2\n",
        "for h in 1:grd\n",
        "    v_b[h,j]=  ut_b[h,j]+ β*maximum(Prob_b[k,1+dim2*i[j]+mc*yc*(h-1):dim2*i[j]+mc*yc*(h)]'*v_0b[1+dim2*i[j]+yc*mc*(h-1):dim2*i[j]+yc*mc*(h)],Prob_l[k,1+dim2*i[j]+mc*yc*(h-1):dim2*i[j]+mc*yc*(h)]'*v_0l[1+dim2*i[j]+yc*mc*(h-1):dim2*i[j]+yc*mc*(h)])\n",
        "    v_l[h,j]=  ut_l[h,j]+ β*maximum(Prob_b[k,1+dim2*i[j]+mc*yc*(h-1):dim2*i[j]+mc*yc*(h)]'*v_0b[1+dim2*i[j]+yc*mc*(h-1):dim2*i[j]+yc*mc*(h)],Prob_l[k,1+dim2*i[j]+mc*yc*(h-1):dim2*i[j]+mc*yc*(h)]'*v_0l[1+dim2*i[j]+yc*mc*(h-1):dim2*i[j]+yc*mc*(h)])\n",
        "end\n",
        "end\n",
        "v_1b[k] = maximum(v_b)\n",
        "v_1l[k] = maximum(v_l)\n",
        "index_b =  findall(v_b.==maximum(v_b))[1]\n",
        "index_l =  findall(v_l.==maximum(v_l))[1]\n",
        "policy_b[k,1] = a_b[index[1]]\n",
        "policy_l[k,1] = a_l[index[1]]\n",
        "policy_b[k,2]  = i[index[2]]\n",
        "policy_l[k,2]  = i[index[2]]\n",
        "\n",
        "end\n",
        "control_b = deepcopy(v_1b)\n",
        "control_l = deepcopy(v_1l)\n",
        "cnt_polb = deepcopy(policy_b)\n",
        "cnt_poll = deepcopy(policy_l)\n",
        "iter = iter+1\n",
        "println(max(maximum(abs.(v_1b.-v_0b)),maximum(abs.(v_1b.-v_0b))))\n",
        "end\n",
        "return v_1b, v_1l, policy_b, policy_l, iter\n",
        "end\n"
      ],
      "metadata": {
        "id": "5OC1lI953cCY",
        "outputId": "c957db07-99b8-4224-db6a-24a84421222b",
        "colab": {
          "base_uri": "https://localhost:8080/"
        }
      },
      "execution_count": 40,
      "outputs": [
        {
          "output_type": "execute_result",
          "data": {
            "text/plain": [
              "solve (generic function with 1 method)"
            ]
          },
          "metadata": {},
          "execution_count": 40
        }
      ]
    },
    {
      "cell_type": "code",
      "source": [
        "result   = solve()\n",
        "v_1b     = result[1]\n",
        "v_1l     = result[2]\n",
        "policy_b = result[3]\n",
        "policy_l = result[4]\n",
        "iter_1   = result[5]"
      ],
      "metadata": {
        "id": "tA2XNve33kNd",
        "outputId": "5c794e0b-cf3a-4faf-b9ea-d7cdac344746",
        "colab": {
          "base_uri": "https://localhost:8080/",
          "height": 252
        }
      },
      "execution_count": 41,
      "outputs": [
        {
          "output_type": "error",
          "ename": "LoadError",
          "evalue": "ignored",
          "traceback": [
            "UndefVarError: util not defined",
            "",
            "Stacktrace:",
            " [1] solve()",
            "   @ Main ./In[40]:4",
            " [2] top-level scope",
            "   @ In[41]:1",
            " [3] eval",
            "   @ ./boot.jl:360 [inlined]",
            " [4] include_string(mapexpr::typeof(REPL.softscope), mod::Module, code::String, filename::String)",
            "   @ Base ./loading.jl:1094"
          ]
        }
      ]
    }
  ]
}